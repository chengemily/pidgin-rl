{
 "cells": [
  {
   "cell_type": "code",
   "execution_count": 2,
   "metadata": {},
   "outputs": [],
   "source": [
    "# Python packages\n",
    "from itertools import chain\n",
    "\n",
    "import matplotlib.pyplot as plt\n",
    "import pickle\n",
    "import numpy as np\n",
    "import sys\n",
    "import os\n",
    "import pickle\n",
    "import signal\n",
    "import argparse\n",
    "import traceback\n",
    "import json\n",
    "import torch\n",
    "import torch.nn as nn\n",
    "from sklearn.manifold import TSNE\n",
    "from sklearn.decomposition import PCA\n",
    "import pandas as pd"
   ]
  },
  {
   "cell_type": "code",
   "execution_count": 3,
   "metadata": {},
   "outputs": [],
   "source": [
    "sys.path.insert(1, \"/home/ubuntu/pidgin-rl/model\")\n",
    "\n",
    "from datasets import *\n",
    "from decoder import *\n",
    "from encoder_v2 import *\n",
    "from train_encoder_v2 import *"
   ]
  },
  {
   "cell_type": "markdown",
   "metadata": {},
   "source": [
    "# Load Data"
   ]
  },
  {
   "cell_type": "code",
   "execution_count": 33,
   "metadata": {},
   "outputs": [],
   "source": [
    "LANG = \"en\"\n",
    "# LANG = \"fr\""
   ]
  },
  {
   "cell_type": "code",
   "execution_count": 34,
   "metadata": {},
   "outputs": [],
   "source": [
    "DATASET_PATH = '../generate-data/data_final/train/{}.csv'.format(LANG)\n",
    "INDEXED_DATA_PATH = '../tokenizer/data_final/indexed_data_words.json' # dataset indexed\n",
    "TOKENIZED_DATA_PATH = \"../tokenizer/data_final/tokens_words.json\"\n",
    "VOCAB_PATH = \"../tokenizer/data_final/vocab_words.json\""
   ]
  },
  {
   "cell_type": "code",
   "execution_count": 37,
   "metadata": {},
   "outputs": [
    {
     "data": {
      "text/html": [
       "<div>\n",
       "<style scoped>\n",
       "    .dataframe tbody tr th:only-of-type {\n",
       "        vertical-align: middle;\n",
       "    }\n",
       "\n",
       "    .dataframe tbody tr th {\n",
       "        vertical-align: top;\n",
       "    }\n",
       "\n",
       "    .dataframe thead th {\n",
       "        text-align: right;\n",
       "    }\n",
       "</style>\n",
       "<table border=\"1\" class=\"dataframe\">\n",
       "  <thead>\n",
       "    <tr style=\"text-align: right;\">\n",
       "      <th></th>\n",
       "      <th>string</th>\n",
       "      <th>x</th>\n",
       "      <th>y</th>\n",
       "    </tr>\n",
       "  </thead>\n",
       "  <tbody>\n",
       "    <tr>\n",
       "      <th>0</th>\n",
       "      <td>go up  eight then move ninety-seven to the right</td>\n",
       "      <td>97</td>\n",
       "      <td>8</td>\n",
       "    </tr>\n",
       "    <tr>\n",
       "      <th>1</th>\n",
       "      <td>go down  fifty-six, then move eighty to the right</td>\n",
       "      <td>80</td>\n",
       "      <td>-56</td>\n",
       "    </tr>\n",
       "    <tr>\n",
       "      <th>2</th>\n",
       "      <td>move fifty-five to the right, then go down  th...</td>\n",
       "      <td>55</td>\n",
       "      <td>-39</td>\n",
       "    </tr>\n",
       "    <tr>\n",
       "      <th>3</th>\n",
       "      <td>move eighty-three to the right then go down  f...</td>\n",
       "      <td>83</td>\n",
       "      <td>-58</td>\n",
       "    </tr>\n",
       "    <tr>\n",
       "      <th>4</th>\n",
       "      <td>go up  eighty then move forty-nine to the left</td>\n",
       "      <td>-49</td>\n",
       "      <td>80</td>\n",
       "    </tr>\n",
       "  </tbody>\n",
       "</table>\n",
       "</div>"
      ],
      "text/plain": [
       "                                              string   x   y\n",
       "0   go up  eight then move ninety-seven to the right  97   8\n",
       "1  go down  fifty-six, then move eighty to the right  80 -56\n",
       "2  move fifty-five to the right, then go down  th...  55 -39\n",
       "3  move eighty-three to the right then go down  f...  83 -58\n",
       "4     go up  eighty then move forty-nine to the left -49  80"
      ]
     },
     "execution_count": 37,
     "metadata": {},
     "output_type": "execute_result"
    }
   ],
   "source": [
    "dataset = pd.read_csv(DATASET_PATH).drop(columns=[\"Unnamed: 0\"])\n",
    "dataset.head()"
   ]
  },
  {
   "cell_type": "code",
   "execution_count": null,
   "metadata": {},
   "outputs": [],
   "source": [
    "word_ix = pd.read_csv(WORD_IX_PATH)\n",
    "word_ix.head()"
   ]
  },
  {
   "cell_type": "code",
   "execution_count": null,
   "metadata": {},
   "outputs": [],
   "source": [
    "vocab = pd.read_csv(VOCAB_PATH)"
   ]
  },
  {
   "cell_type": "markdown",
   "metadata": {},
   "source": [
    "# Load Model"
   ]
  },
  {
   "cell_type": "markdown",
   "metadata": {},
   "source": [
    "Specifies the device, language, model type, and number of epochs, then loads in each checkpoint."
   ]
  },
  {
   "cell_type": "code",
   "execution_count": 27,
   "metadata": {},
   "outputs": [],
   "source": [
    "device = torch.device(\"cpu\") if not torch.cuda.is_available() else torch.device(\"cuda:0\")"
   ]
  },
  {
   "cell_type": "code",
   "execution_count": 30,
   "metadata": {},
   "outputs": [],
   "source": [
    "# Decoder or encoder\n",
    "model_type = \"decoder\"\n",
    "# model_type = \"encoder\"\n",
    "N = 0 # last epoch we want"
   ]
  },
  {
   "cell_type": "code",
   "execution_count": 32,
   "metadata": {},
   "outputs": [],
   "source": [
    "# N is the last epoch we want\n",
    "MODEL_CHECKPOINTS = [\"../model/saved_models/{}_{}/model_epoch_{}.pt\".format(\n",
    "    lang, model_type, i) for i in range(1, N)]\n",
    "MODELS = [torch.load(checkpoint) for checkpoint in MODEL_CHECKPOINTS]\n",
    "EMBEDS = [list(model.children())[:-1][0] for model in MODELS]"
   ]
  },
  {
   "cell_type": "code",
   "execution_count": null,
   "metadata": {},
   "outputs": [],
   "source": []
  }
 ],
 "metadata": {
  "kernelspec": {
   "display_name": "Python 3",
   "language": "python",
   "name": "python3"
  },
  "language_info": {
   "codemirror_mode": {
    "name": "ipython",
    "version": 3
   },
   "file_extension": ".py",
   "mimetype": "text/x-python",
   "name": "python",
   "nbconvert_exporter": "python",
   "pygments_lexer": "ipython3",
   "version": "3.8.5"
  }
 },
 "nbformat": 4,
 "nbformat_minor": 4
}
